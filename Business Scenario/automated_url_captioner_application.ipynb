{
  "nbformat": 4,
  "nbformat_minor": 0,
  "metadata": {
    "colab": {
      "provenance": []
    },
    "kernelspec": {
      "name": "python3",
      "display_name": "Python 3"
    },
    "language_info": {
      "name": "python"
    }
  },
  "cells": [
    {
      "cell_type": "code",
      "execution_count": 2,
      "metadata": {
        "colab": {
          "base_uri": "https://localhost:8080/"
        },
        "id": "9mDxFZQBompx",
        "outputId": "5a7a0565-3230-4e3f-b6ca-891c87e10072"
      },
      "outputs": [
        {
          "output_type": "stream",
          "name": "stdout",
          "text": [
            "a man working on a computer\n",
            "a man sitting at a desk\n",
            "saturn v saturn unit\n",
            "a hard disk and a hard drive\n",
            "Error processing image https://upload.wikimedia.org/wikipedia/commons/thumb/b/b5/IBM_CHQ_-_Oct_2014.jpg/220px-IBM_CHQ_-_Oct_2014.jpg: cannot identify image file <_io.BytesIO object at 0x7de727c3ddf0>\n",
            "a tall building with a large sign on it\n",
            "a large room with a large mural on the wall\n",
            "a room with a black wall and a black floor\n",
            "a large building\n",
            "a man sitting in a chair\n",
            "a long hallway with a sign that says it's time to go\n",
            "a group of people sitting in a room\n",
            "a large room with a lot of people\n"
          ]
        }
      ],
      "source": [
        "import requests\n",
        "from PIL import Image\n",
        "from io import BytesIO\n",
        "from bs4 import BeautifulSoup\n",
        "from transformers import BlipProcessor, BlipForConditionalGeneration\n",
        "\n",
        "# Load the pretrained processor and model\n",
        "processor = BlipProcessor.from_pretrained(\"Salesforce/blip-image-captioning-base\")\n",
        "model = BlipForConditionalGeneration.from_pretrained(\"Salesforce/blip-image-captioning-base\")\n",
        "\n",
        "\n",
        "# URL of the page to scrape\n",
        "url = \"https://en.wikipedia.org/wiki/IBM\"\n",
        "\n",
        "# Download the page\n",
        "response = requests.get(url)\n",
        "# Parse the page with BeautifulSoup\n",
        "soup = BeautifulSoup(response.text, 'html.parser')\n",
        "\n",
        "# Find all img elements\n",
        "img_elements = soup.find_all('img')\n",
        "\n",
        "# Open a file to write the captions\n",
        "with open(\"captions.txt\", \"w\") as caption_file:\n",
        "    # Iterate over each img element\n",
        "    for img_element in img_elements:\n",
        "        img_url = img_element.get('src')\n",
        "\n",
        "        # Skip if the image is an SVG or too small (likely an icon)\n",
        "        if 'svg' in img_url or '1x1' in img_url:\n",
        "            continue\n",
        "\n",
        "        # Correct the URL if it's malformed\n",
        "        if img_url.startswith('//'):\n",
        "            img_url = 'https:' + img_url\n",
        "        elif not img_url.startswith('http://') and not img_url.startswith('https://'):\n",
        "            continue  # Skip URLs that don't start with http:// or https://\n",
        "\n",
        "        try:\n",
        "            # Download the image\n",
        "            response = requests.get(img_url)\n",
        "            # Convert the image data to a PIL Image\n",
        "            raw_image = Image.open(BytesIO(response.content))\n",
        "            if raw_image.size[0] * raw_image.size[1] < 400:  # Skip very small images\n",
        "                continue\n",
        "\n",
        "            raw_image = raw_image.convert('RGB')\n",
        "\n",
        "            # Process the image\n",
        "            inputs = processor(raw_image, return_tensors=\"pt\")\n",
        "            # Generate a caption for the image\n",
        "            out = model.generate(**inputs, max_new_tokens=50)\n",
        "            # Decode the generated tokens to text\n",
        "            caption = processor.decode(out[0], skip_special_tokens=True)\n",
        "            print(caption)\n",
        "\n",
        "            # Write the caption to the file, prepended by the image URL\n",
        "            caption_file.write(f\"{img_url}: {caption}\\n\")\n",
        "        except Exception as e:\n",
        "            print(f\"Error processing image {img_url}: {e}\")\n",
        "            continue"
      ]
    },
    {
      "cell_type": "code",
      "source": [],
      "metadata": {
        "id": "LV234-6ZonWG"
      },
      "execution_count": null,
      "outputs": []
    }
  ]
}